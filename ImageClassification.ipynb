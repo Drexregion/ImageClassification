{
  "nbformat": 4,
  "nbformat_minor": 0,
  "metadata": {
    "colab": {
      "provenance": []
    },
    "kernelspec": {
      "name": "python3",
      "display_name": "Python 3"
    },
    "language_info": {
      "name": "python"
    }
  },
  "cells": [
    {
      "cell_type": "markdown",
      "source": [
        "\n",
        "\n",
        "> Indented block\n",
        "# Import Tensor flow"
      ],
      "metadata": {
        "id": "DBaeo529B5bb"
      }
    },
    {
      "cell_type": "code",
      "execution_count": null,
      "metadata": {
        "id": "sO6db7gh5wn0"
      },
      "outputs": [],
      "source": [
        "import tensorflow as tf\n",
        "# tf.compat.v1.logging.set_verbosity(tf.logging.ERROR)\n",
        "# print('Using TensorFlow version', tf__version__)"
      ]
    },
    {
      "cell_type": "markdown",
      "source": [
        "# The Data set\n",
        "### Import Data Set from mnist library"
      ],
      "metadata": {
        "id": "Gj_j7QVnC1U-"
      }
    },
    {
      "cell_type": "code",
      "source": [
        "from tensorflow.keras.datasets import mnist #Forget about the error it is a minor issure\n",
        "(x_train,y_train), (x_test,y_test) = mnist.load_data()"
      ],
      "metadata": {
        "colab": {
          "base_uri": "https://localhost:8080/"
        },
        "id": "lZNkA8uACmEK",
        "outputId": "52682f8c-a1b1-4fc8-8101-a77a0013d848"
      },
      "execution_count": null,
      "outputs": [
        {
          "output_type": "stream",
          "name": "stdout",
          "text": [
            "Downloading data from https://storage.googleapis.com/tensorflow/tf-keras-datasets/mnist.npz\n",
            "11490434/11490434 [==============================] - 0s 0us/step\n"
          ]
        }
      ]
    },
    {
      "cell_type": "markdown",
      "source": [],
      "metadata": {
        "id": "DsgTFi2sERzn"
      }
    },
    {
      "cell_type": "markdown",
      "source": [
        "###Shapes of Imported Array\n"
      ],
      "metadata": {
        "id": "wrvMeqMcEQOb"
      }
    },
    {
      "cell_type": "code",
      "source": [
        "print(\"x_Train shape:\", x_train.shape)\n",
        "print(\"y_train shape:\", y_train.shape)\n",
        "print(\"x_test shape:\", x_test.shape)\n",
        "print(\"y_test shape:\", y_test.shape)"
      ],
      "metadata": {
        "colab": {
          "base_uri": "https://localhost:8080/"
        },
        "id": "5Lj7ec77E_-A",
        "outputId": "f8aa492d-fb12-4c46-c9f9-ccc320482943"
      },
      "execution_count": null,
      "outputs": [
        {
          "output_type": "stream",
          "name": "stdout",
          "text": [
            "x_Train shape: (60000, 28, 28)\n",
            "y_train shape: (60000,)\n",
            "x_test shape: (10000, 28, 28)\n",
            "y_test shape: (10000,)\n"
          ]
        }
      ]
    },
    {
      "cell_type": "markdown",
      "source": [
        "###Plot an Image from data set\n"
      ],
      "metadata": {
        "id": "HxUfKpiKEcm_"
      }
    },
    {
      "cell_type": "code",
      "source": [
        "from matplotlib import pyplot as plt\n",
        "%matplotlib inline\n",
        "plt.imshow(x_train[0],cmap=\"binary\")\n",
        "plt.show()"
      ],
      "metadata": {
        "colab": {
          "base_uri": "https://localhost:8080/",
          "height": 430
        },
        "id": "yabBj84EFV00",
        "outputId": "43c60261-57b2-479a-d5c3-2ed0611fa60d"
      },
      "execution_count": null,
      "outputs": [
        {
          "output_type": "display_data",
          "data": {
            "text/plain": [
              "<Figure size 640x480 with 1 Axes>"
            ],
            "image/png": "[encoded data removed]"
          },
          "metadata": {}
        }
      ]
    },
    {
      "cell_type": "markdown",
      "source": [
        "###Displaying Training DataSet labels\n"
      ],
      "metadata": {
        "id": "L0_gOq1kEcvA"
      }
    },
    {
      "cell_type": "code",
      "source": [
        "y_train[0]"
      ],
      "metadata": {
        "colab": {
          "base_uri": "https://localhost:8080/"
        },
        "id": "s32UK-G3GZBq",
        "outputId": "548fc887-3298-497e-9b09-e450706249b3"
      },
      "execution_count": null,
      "outputs": [
        {
          "output_type": "execute_result",
          "data": {
            "text/plain": [
              "5"
            ]
          },
          "metadata": {},
          "execution_count": 11
        }
      ]
    },
    {
      "cell_type": "code",
      "source": [
        "print(set(y_train))"
      ],
      "metadata": {
        "colab": {
          "base_uri": "https://localhost:8080/"
        },
        "id": "ViuMRZTwGcPh",
        "outputId": "7d8b278f-19f6-453c-c799-8a4a5f900fcf"
      },
      "execution_count": null,
      "outputs": [
        {
          "output_type": "stream",
          "name": "stdout",
          "text": [
            "{0, 1, 2, 3, 4, 5, 6, 7, 8, 9}\n"
          ]
        }
      ]
    },
    {
      "cell_type": "markdown",
      "source": [
        "# One Hot Encoding\n",
        "#### Import Data Set from mnist library\n",
        "####After this encoding, every label will be converted to a list with 10 elements and the element at index to the corresponding class will be set to 1, rest will be set to 0:\n",
        "\n",
        "#####original label -> one-hot encoded label |\\n\",\n",
        "\n",
        "#### 5 ->     [0, 0, 0, 0, 0, 1, 0, 0, 0, 0]\n",
        "#### 7 ->    [0, 0, 0, 0, 0, 0, 0, 1, 0, 0]\n",
        "#### 1->     [0, 1, 0, 0, 0, 0, 0, 0, 0, 0]\n"
      ],
      "metadata": {
        "id": "YCw0QtcsGleG"
      }
    },
    {
      "cell_type": "markdown",
      "source": [
        "###Encoding Labels\n"
      ],
      "metadata": {
        "id": "IqnFCtN9EdM-"
      }
    },
    {
      "cell_type": "code",
      "source": [
        "from tensorflow.keras.utils import to_categorical\n",
        "y_train_encoded = to_categorical(y_train)\n",
        "y_test_encoded = to_categorical(y_test)"
      ],
      "metadata": {
        "id": "S7eQWWi8H45B"
      },
      "execution_count": null,
      "outputs": []
    },
    {
      "cell_type": "markdown",
      "source": [
        "###Validating Shapes of test Data\n"
      ],
      "metadata": {
        "id": "_eojVIwuEdT-"
      }
    },
    {
      "cell_type": "code",
      "source": [
        "print(\"y_train_encoded\", y_train_encoded)\n",
        "print(\"y_test_encoded\", y_test_encoded)"
      ],
      "metadata": {
        "colab": {
          "base_uri": "https://localhost:8080/"
        },
        "id": "igb0A2z5IRxQ",
        "outputId": "9b834905-4516-4dfd-84b2-c0be93935b70"
      },
      "execution_count": null,
      "outputs": [
        {
          "output_type": "stream",
          "name": "stdout",
          "text": [
            "y_train_encoded [[0. 0. 0. ... 0. 0. 0.]\n",
            " [1. 0. 0. ... 0. 0. 0.]\n",
            " [0. 0. 0. ... 0. 0. 0.]\n",
            " ...\n",
            " [0. 0. 0. ... 0. 0. 0.]\n",
            " [0. 0. 0. ... 0. 0. 0.]\n",
            " [0. 0. 0. ... 0. 1. 0.]]\n",
            "y_test_encoded [[0. 0. 0. ... 1. 0. 0.]\n",
            " [0. 0. 1. ... 0. 0. 0.]\n",
            " [0. 1. 0. ... 0. 0. 0.]\n",
            " ...\n",
            " [0. 0. 0. ... 0. 0. 0.]\n",
            " [0. 0. 0. ... 0. 0. 0.]\n",
            " [0. 0. 0. ... 0. 0. 0.]]\n"
          ]
        }
      ]
    },
    {
      "cell_type": "markdown",
      "source": [
        "###Display Encoded Labels\n"
      ],
      "metadata": {
        "id": "EE7ZYRmYIQZe"
      }
    },
    {
      "cell_type": "code",
      "source": [
        "y_train_encoded[0]"
      ],
      "metadata": {
        "colab": {
          "base_uri": "https://localhost:8080/"
        },
        "id": "YyytFvseIwD-",
        "outputId": "c6023446-1529-408e-88cd-e4f4c87b7870"
      },
      "execution_count": null,
      "outputs": [
        {
          "output_type": "execute_result",
          "data": {
            "text/plain": [
              "array([0., 0., 0., 0., 0., 1., 0., 0., 0., 0.], dtype=float32)"
            ]
          },
          "metadata": {},
          "execution_count": 15
        }
      ]
    },
    {
      "cell_type": "markdown",
      "source": [
        "#Task 4 : Neural Networks\n"
      ],
      "metadata": {
        "id": "TX62tPqcIQen"
      }
    },
    {
      "cell_type": "markdown",
      "source": [
        "#Task 5: Preprocessing the Examples\n",
        "##Unrolling Ndimensional Array to Vectors\n"
      ],
      "metadata": {
        "id": "X0Te2-NqIQiC"
      }
    },
    {
      "cell_type": "code",
      "source": [
        "import numpy as np\n",
        "\n",
        "x_train_reshaped = np.reshape(x_train,(60000,784))\n",
        "x_test_reshaped = np.reshape(x_test,(10000,784))\n",
        "print(\"x_train_reshaped\", x_train_reshaped)\n",
        "print(\"x_test_reshaped\", x_test_reshaped)"
      ],
      "metadata": {
        "colab": {
          "base_uri": "https://localhost:8080/"
        },
        "id": "5fFWqT8jLF_5",
        "outputId": "55e5f7f7-8832-4f1a-b75c-ed68c21c6182"
      },
      "execution_count": null,
      "outputs": [
        {
          "output_type": "stream",
          "name": "stdout",
          "text": [
            "x_train_reshaped [[0 0 0 ... 0 0 0]\n",
            " [0 0 0 ... 0 0 0]\n",
            " [0 0 0 ... 0 0 0]\n",
            " ...\n",
            " [0 0 0 ... 0 0 0]\n",
            " [0 0 0 ... 0 0 0]\n",
            " [0 0 0 ... 0 0 0]]\n",
            "x_test_reshaped [[0 0 0 ... 0 0 0]\n",
            " [0 0 0 ... 0 0 0]\n",
            " [0 0 0 ... 0 0 0]\n",
            " ...\n",
            " [0 0 0 ... 0 0 0]\n",
            " [0 0 0 ... 0 0 0]\n",
            " [0 0 0 ... 0 0 0]]\n"
          ]
        }
      ]
    },
    {
      "cell_type": "markdown",
      "source": [
        "###Display Pixel Value\n",
        "\n"
      ],
      "metadata": {
        "id": "yLOqlepMIQk5"
      }
    },
    {
      "cell_type": "code",
      "source": [
        "print(set(x_train_reshaped[0]))"
      ],
      "metadata": {
        "colab": {
          "base_uri": "https://localhost:8080/"
        },
        "id": "FeZLcM6JMSu0",
        "outputId": "b9ac754c-6a44-4711-a237-b1df7aca884f"
      },
      "execution_count": null,
      "outputs": [
        {
          "output_type": "stream",
          "name": "stdout",
          "text": [
            "{0, 1, 2, 3, 9, 11, 14, 16, 18, 23, 24, 25, 26, 27, 30, 35, 36, 39, 43, 45, 46, 49, 55, 56, 64, 66, 70, 78, 80, 81, 82, 90, 93, 94, 107, 108, 114, 119, 126, 127, 130, 132, 133, 135, 136, 139, 148, 150, 154, 156, 160, 166, 170, 171, 172, 175, 182, 183, 186, 187, 190, 195, 198, 201, 205, 207, 212, 213, 219, 221, 225, 226, 229, 238, 240, 241, 242, 244, 247, 249, 250, 251, 252, 253, 255}\n"
          ]
        }
      ]
    },
    {
      "cell_type": "markdown",
      "source": [],
      "metadata": {
        "id": "QIR7ha5vMSJT"
      }
    },
    {
      "cell_type": "markdown",
      "source": [
        "###Data Normalization\n",
        "#####Data is being normalized to allow efficient computing on the pixel values, this was done by reducing the scale and distribution of the values\n"
      ],
      "metadata": {
        "id": "pC_X_OzFIQoQ"
      }
    },
    {
      "cell_type": "code",
      "source": [
        "import numpy as np\n",
        "x_mean = np.mean(x_train_reshaped)\n",
        "x_std = np.std(x_train_reshaped)\n",
        "epsilon = 1e-10\n",
        "\n",
        "x_train_norm = (x_train_reshaped - x_mean) / (x_std + epsilon) # Adding epsilon reduces the unstability in the computation of data\n",
        "\n",
        "# We used the same mean an standard deviation for the test set and training set in order to remove unecessary bias\n",
        "x_test_norm = (x_test_reshaped - x_mean) / (x_std + epsilon)\n"
      ],
      "metadata": {
        "id": "RT0opIdkMoxA"
      },
      "execution_count": null,
      "outputs": []
    },
    {
      "cell_type": "markdown",
      "source": [
        "###Display Normalized Data\n"
      ],
      "metadata": {
        "id": "-IxRAD_BMnlR"
      }
    },
    {
      "cell_type": "code",
      "source": [
        "print(set(x_train_norm[0]))"
      ],
      "metadata": {
        "colab": {
          "base_uri": "https://localhost:8080/"
        },
        "id": "p5TxTH5LMkjY",
        "outputId": "0ba610bd-268f-45fa-f2b0-480a4099f11f"
      },
      "execution_count": null,
      "outputs": [
        {
          "output_type": "stream",
          "name": "stdout",
          "text": [
            "{-0.38589016215482896, 1.306921966983251, 1.17964285952926, 1.803310486053816, 1.6887592893452241, 2.8215433456857437, 2.719720059722551, 1.1923707702746593, 1.7396709323268205, 2.057868700961798, 2.3633385588513764, 2.096052433197995, 1.7651267538176187, 2.7960875241949457, 2.7451758812133495, 2.45243393406917, 0.02140298169794222, -0.22042732246464067, 1.2305545025108566, 0.2759611966059242, 2.210603629906587, 2.6560805059955555, 2.6051688630139593, -0.4240738943910262, 0.4668798577869107, 0.1486820891519332, 0.3905123933145161, 1.0905474843114664, -0.09314821501064967, 1.4851127174188385, 2.7579037919587486, 1.5360243604004349, 0.07231462467953861, -0.13133194724684696, 1.294194056237852, 0.03413089244334132, 1.3451056992194483, 2.274243183633583, -0.24588314395543887, 0.772349715676489, 0.75962180493109, 0.7214380726948927, 0.1995937321335296, -0.41134598364562713, 0.5687031437501034, 0.5941589652409017, 0.9378125553666773, 0.9505404661120763, 0.6068868759863008, 0.4159682148053143, -0.042236572029053274, 2.7706317027041476, 2.1342361654341926, 0.12322626766113501, -0.08042030426525057, 0.16140999989733232, 1.8924058612716097, 1.2560103240016547, 2.185147808415789, 0.6196147867316999, 1.943317504253206, -0.11860403650144787, -0.30952269768243434, 1.9942291472348024, -0.2840668761916362, 2.6306246845047574, 2.286971094378982, -0.19497150097384247, -0.39861807290022805, 0.2886891073513233, 1.7523988430722195, 2.3887943803421745, 2.681536327486354, 1.4596568959280403, 2.439706023323771, 2.7833596134495466, 2.490617666305367, -0.10587612575604877, 1.5614801818912332, 1.9051337720170087, 1.6123918248728295, 1.268738234747054, 1.9560454149986053, 2.6433525952501564, 1.026907930584471}\n"
          ]
        }
      ]
    },
    {
      "cell_type": "markdown",
      "source": [
        "# Task 6 : Creating A model\n"
      ],
      "metadata": {
        "id": "SIsBMPrXMseO"
      }
    },
    {
      "cell_type": "markdown",
      "source": [
        "###The first step in the node is the linear sum of the inputs\n",
        "\n",
        "![Screenshot 2024-03-03 193017.png](data:image/png;base64,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)\n",
        "\n",
        "### The second step is processing output using an activation function\n",
        "![image.png](data:image/png;base64,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)\n",
        "\n",
        "\n",
        "###Graphical representation of a node where the two operations are performed\n",
        "![image.png](data:image/png;base64,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)\n",
        "        "
      ],
      "metadata": {
        "id": "WQ9YzL1j3c_3"
      }
    },
    {
      "cell_type": "code",
      "source": [
        "from tensorflow.keras.models import Sequential\n",
        "from tensorflow.keras.layers import Dense\n",
        "\n",
        "model = Sequential([\n",
        "    # First Layer\n",
        "    Dense(128, activation=\"relu\", input_shape=(784,)),\n",
        "\n",
        "    #Second Layer\n",
        "\n",
        "    # relu: acts as a linear function for all positive values and set to zero for the other functions\n",
        "\n",
        "    # softmax: gives the probability scores for various nodes, the class with the highest probability scores gives us our output\n",
        "\n",
        "    Dense(128, activation=\"relu\"), #Input shape does not need to be specified as it is implide in the firs layer\n",
        "\n",
        "    #Third Layer\n",
        "    Dense(10, activation=\"softmax\")\n",
        "\n",
        "\n",
        "])"
      ],
      "metadata": {
        "id": "bdyEKCJO08as"
      },
      "execution_count": null,
      "outputs": []
    },
    {
      "cell_type": "markdown",
      "source": [
        "###Compiling the Model"
      ],
      "metadata": {
        "id": "EYN-0Y9n7M8_"
      }
    },
    {
      "cell_type": "code",
      "source": [
        "model.compile(\n",
        "\n",
        "    #Defines the optimizer algorithm\n",
        "    optimizer=\"sgd\",\n",
        "\n",
        "    #This has to do with the difference between the model generated output and\n",
        "    # the original output (loss should be minimized)\n",
        "    loss='categorical_crossentropy',\n",
        "\n",
        "    metrics = ['accuracy']\n",
        "\n",
        ")\n",
        "\n",
        "model.summary()"
      ],
      "metadata": {
        "colab": {
          "base_uri": "https://localhost:8080/"
        },
        "id": "D8sVjhSX5xSN",
        "outputId": "3e562d39-db2c-4591-d343-9404d3862362"
      },
      "execution_count": null,
      "outputs": [
        {
          "output_type": "stream",
          "name": "stdout",
          "text": [
            "Model: \"sequential_2\"\n",
            "_________________________________________________________________\n",
            " Layer (type)                Output Shape              Param #   \n",
            "=================================================================\n",
            " dense_6 (Dense)             (None, 128)               100480    \n",
            "                                                                 \n",
            " dense_7 (Dense)             (None, 128)               16512     \n",
            "                                                                 \n",
            " dense_8 (Dense)             (None, 10)                1290      \n",
            "                                                                 \n",
            "=================================================================\n",
            "Total params: 118282 (462.04 KB)\n",
            "Trainable params: 118282 (462.04 KB)\n",
            "Non-trainable params: 0 (0.00 Byte)\n",
            "_________________________________________________________________\n"
          ]
        }
      ]
    },
    {
      "cell_type": "markdown",
      "source": [
        "###Training the Model"
      ],
      "metadata": {
        "id": "3Y64x6GnHzeD"
      }
    },
    {
      "cell_type": "code",
      "source": [
        "model.fit(x_train_norm, y_train_encoded,epochs=3)#epochs has to do with the number of iterations to test the training data"
      ],
      "metadata": {
        "colab": {
          "base_uri": "https://localhost:8080/"
        },
        "id": "97ZM1b8f8dPD",
        "outputId": "8b61f60c-a08b-480e-a424-cf5482f658bf"
      },
      "execution_count": null,
      "outputs": [
        {
          "output_type": "stream",
          "name": "stdout",
          "text": [
            "Epoch 1/3\n",
            "1875/1875 [==============================] - 8s 4ms/step - loss: 0.3754 - accuracy: 0.8894\n",
            "Epoch 2/3\n",
            "1875/1875 [==============================] - 6s 3ms/step - loss: 0.1856 - accuracy: 0.9456\n",
            "Epoch 3/3\n",
            "1875/1875 [==============================] - 7s 4ms/step - loss: 0.1417 - accuracy: 0.9582\n"
          ]
        },
        {
          "output_type": "execute_result",
          "data": {
            "text/plain": [
              "<keras.src.callbacks.History at 0x7b3380249420>"
            ]
          },
          "metadata": {},
          "execution_count": 22
        }
      ]
    },
    {
      "cell_type": "markdown",
      "source": [
        "###Evaluating the Model"
      ],
      "metadata": {
        "id": "ePszHq19H3cL"
      }
    },
    {
      "cell_type": "code",
      "source": [
        "#uses the test data with the model and compares the predictions with the\n",
        "#original y values\n",
        "loss, accuracy = model.evaluate(x_test_norm, y_test_encoded)\n",
        "print(\"Accuracy of model is\" , accuracy*100)"
      ],
      "metadata": {
        "colab": {
          "base_uri": "https://localhost:8080/"
        },
        "id": "3o6SnhOTHUxD",
        "outputId": "0ea1a838-4e9b-4462-bf50-4596df2bbd80"
      },
      "execution_count": null,
      "outputs": [
        {
          "output_type": "stream",
          "name": "stdout",
          "text": [
            "313/313 [==============================] - 1s 2ms/step - loss: 0.1324 - accuracy: 0.9607\n",
            "Accuracy of model is 96.069997549057\n"
          ]
        }
      ]
    },
    {
      "cell_type": "markdown",
      "source": [
        "#Task8: Predicitions\n",
        "##Predictions on Test Set\n"
      ],
      "metadata": {
        "id": "FW8BXciVKFzf"
      }
    },
    {
      "cell_type": "code",
      "source": [
        "preds = model.predict(x_test_norm)\n",
        "print(\"Shape of preds\" , preds)"
      ],
      "metadata": {
        "colab": {
          "base_uri": "https://localhost:8080/"
        },
        "id": "6aRwkv1sJ0pk",
        "outputId": "ec2fc6f1-cd74-4e8f-b2a6-37017983b8ea"
      },
      "execution_count": null,
      "outputs": [
        {
          "output_type": "stream",
          "name": "stdout",
          "text": [
            "313/313 [==============================] - 1s 2ms/step\n",
            "Shape of preds [[4.1822036e-06 1.9443925e-07 1.7222250e-04 ... 9.9953085e-01\n",
            "  1.7966031e-05 1.9369452e-05]\n",
            " [1.7609213e-04 2.7488667e-04 9.7888881e-01 ... 2.0274234e-07\n",
            "  1.2562552e-04 3.7910610e-07]\n",
            " [3.7445764e-06 9.8990327e-01 2.1106116e-03 ... 2.2262172e-03\n",
            "  1.6890947e-03 7.5978169e-05]\n",
            " ...\n",
            " [5.0764257e-08 3.2267709e-09 1.8068389e-06 ... 2.0713980e-05\n",
            "  5.4720720e-05 6.9173874e-04]\n",
            " [3.3038465e-05 1.7269414e-04 1.3712665e-05 ... 6.3113971e-06\n",
            "  2.1305336e-03 1.6060736e-06]\n",
            " [2.2161943e-05 4.5051991e-08 3.2895993e-04 ... 2.3946564e-08\n",
            "  2.7370637e-08 5.4325227e-07]]\n"
          ]
        }
      ]
    },
    {
      "cell_type": "markdown",
      "source": [
        "###Plotting the results"
      ],
      "metadata": {
        "id": "7D--S5_ALW6V"
      }
    },
    {
      "cell_type": "code",
      "source": [
        " plt.figure(figsize = (12,12))\n",
        " start_index = 0\n",
        "\n",
        " for i in range(25):\n",
        "    plt.subplot(5,5,i+1)\n",
        "    plt.grid(False)\n",
        "    plt.xticks([])\n",
        "    plt.yticks([])\n",
        "\n",
        "    pred = np.argmax(preds[start_index+i]) # predictions\n",
        "    gt = y_test[start_index+i] # original y value\n",
        "\n",
        "    col = \"g\"\n",
        "    if pred != gt:\n",
        "      col = \"r\"\n",
        "    plt.xlabel(\"i = {}, pred = {} , gt = {}\".format(start_index+i,pred,gt), color = col )\n",
        "    plt.imshow(x_test[start_index+i], cmap=\"binary\")\n",
        "\n",
        "plt.show()\n",
        "\n"
      ],
      "metadata": {
        "colab": {
          "base_uri": "https://localhost:8080/",
          "height": 980
        },
        "id": "4wGNmwwoLIfv",
        "outputId": "de3c072b-559d-47a0-8844-54ae3c29dc6f"
      },
      "execution_count": null,
      "outputs": [
        {
          "output_type": "display_data",
          "data": {
            "text/plain": [
              "<Figure size 1200x1200 with 25 Axes>"
            ],
            "image/png": "[encoded data removed]"
          },
          "metadata": {}
        }
      ]
    },
    {
      "cell_type": "code",
      "source": [
        "plt.plot(preds[8])\n",
        "plt.show()"
      ],
      "metadata": {
        "colab": {
          "base_uri": "https://localhost:8080/",
          "height": 430
        },
        "id": "8IsUB7ZpLuOM",
        "outputId": "b3e0d93d-4333-4c5c-e117-a6613e5de10d"
      },
      "execution_count": null,
      "outputs": [
        {
          "output_type": "display_data",
          "data": {
            "text/plain": [
              "<Figure size 640x480 with 1 Axes>"
            ],
            "image/png": "[encoded data removed]"
          },
          "metadata": {}
        }
      ]
    },
    {
      "cell_type": "code",
      "source": [],
      "metadata": {
        "id": "HMW4QSdnTt3Z"
      },
      "execution_count": null,
      "outputs": []
    }
  ]
}